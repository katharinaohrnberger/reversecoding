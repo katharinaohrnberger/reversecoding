{
 "cells": [
  {
   "cell_type": "code",
   "execution_count": 307,
   "metadata": {
    "collapsed": false
   },
   "outputs": [],
   "source": [
    "import numpy as np\n",
    "import pandas as pd\n",
    "from pandas import DataFrame\n"
   ]
  },
  {
   "cell_type": "code",
   "execution_count": 308,
   "metadata": {
    "collapsed": false
   },
   "outputs": [],
   "source": [
    "#root = 'C:\\Users\\kath\\Documents\\PhD\\PhDpapers\\Creativity_and_Metacognition\\Analysis'\n",
    "#file = 'metacognition_data.csv'\n",
    "\n",
    "df = pd.read_csv('../metacognition_data .csv')\n"
   ]
  },
  {
   "cell_type": "code",
   "execution_count": 310,
   "metadata": {
    "collapsed": false
   },
   "outputs": [
    {
     "data": {
      "text/plain": [
       "(79, 94)"
      ]
     },
     "execution_count": 310,
     "metadata": {},
     "output_type": "execute_result"
    }
   ],
   "source": [
    "df.shape"
   ]
  },
  {
   "cell_type": "code",
   "execution_count": 313,
   "metadata": {
    "collapsed": false
   },
   "outputs": [
    {
     "name": "stderr",
     "output_type": "stream",
     "text": [
      "/Users/kath/anaconda2/lib/python2.7/site-packages/ipykernel/__main__.py:19: SettingWithCopyWarning: \n",
      "A value is trying to be set on a copy of a slice from a DataFrame\n",
      "\n",
      "See the caveats in the documentation: http://pandas.pydata.org/pandas-docs/stable/indexing.html#indexing-view-versus-copy\n",
      "/Users/kath/anaconda2/lib/python2.7/site-packages/ipykernel/__main__.py:17: SettingWithCopyWarning: \n",
      "A value is trying to be set on a copy of a slice from a DataFrame\n",
      "\n",
      "See the caveats in the documentation: http://pandas.pydata.org/pandas-docs/stable/indexing.html#indexing-view-versus-copy\n",
      "/Users/kath/anaconda2/lib/python2.7/site-packages/ipykernel/__main__.py:15: SettingWithCopyWarning: \n",
      "A value is trying to be set on a copy of a slice from a DataFrame\n",
      "\n",
      "See the caveats in the documentation: http://pandas.pydata.org/pandas-docs/stable/indexing.html#indexing-view-versus-copy\n",
      "/Users/kath/anaconda2/lib/python2.7/site-packages/ipykernel/__main__.py:13: SettingWithCopyWarning: \n",
      "A value is trying to be set on a copy of a slice from a DataFrame\n",
      "\n",
      "See the caveats in the documentation: http://pandas.pydata.org/pandas-docs/stable/indexing.html#indexing-view-versus-copy\n"
     ]
    }
   ],
   "source": [
    "#function that takes qs (questionnaire items from Five Facets of Mindfulness Questionnaire) and reverse codes these\n",
    "\n",
    "qs = ['FFMQ1_FFMQ3','FFMQ1_FFMQ5','FFMQ1_FFMQ8','FFMQ1_FFMQ10','FFMQ2_MMFQ12','FFMQ2_MMFQ13','FFMQ2_MMFQ14', \n",
    "     'FFMQ2_MMFQ16','FFMQ2_MMFQ17','FFMQ2_MMFQ18','FFMQ3_FFMQ22','FFMQ3_FFMQ23','FFMQ3_FFMQ25','FFMQ3_FFMQ28',\n",
    "     'FFMQ3_FFMQ30','FFMQ4_FFMQ34','FFMQ4_FFMQ35','FFMQ4_FFMQ38','FFMQ4_FFMQ39']\n",
    "      \n",
    "name = 'FFMQ_data_reversecode'\n",
    "\n",
    "def reverse(colum_list, filename):\n",
    "    for j in qs:\n",
    "        for i in range(0, len(df)):\n",
    "            if df[j][i] == 1:\n",
    "                df[j][i] = 5\n",
    "            if df[j][i] == 2:\n",
    "                df[j][i] = 4\n",
    "            if df[j][i] == 4:\n",
    "                df[j][i] = 2\n",
    "            if df[j][i] == 5:\n",
    "                df[j][i] = 1\n",
    "    \n",
    "#     df.to_csv(filename)\n",
    "\n",
    "reverse(qs, name)"
   ]
  },
  {
   "cell_type": "code",
   "execution_count": 326,
   "metadata": {
    "collapsed": false
   },
   "outputs": [
    {
     "data": {
      "text/plain": [
       "0     3.833333\n",
       "1     2.333333\n",
       "2     2.833333\n",
       "3     3.333333\n",
       "4     3.500000\n",
       "5     3.333333\n",
       "6     3.000000\n",
       "7     1.000000\n",
       "8     2.666667\n",
       "9     3.166667\n",
       "10    2.500000\n",
       "11    3.833333\n",
       "12    3.000000\n",
       "13    4.000000\n",
       "14    2.833333\n",
       "15    2.166667\n",
       "16    2.666667\n",
       "17    3.000000\n",
       "18    3.166667\n",
       "19    3.833333\n",
       "20    2.833333\n",
       "21    2.833333\n",
       "22    3.166667\n",
       "23    3.333333\n",
       "24    2.833333\n",
       "25    2.500000\n",
       "26    3.000000\n",
       "27    3.666667\n",
       "28    2.666667\n",
       "29    3.166667\n",
       "        ...   \n",
       "49    3.166667\n",
       "50    3.000000\n",
       "51    3.333333\n",
       "52    3.333333\n",
       "53    3.333333\n",
       "54    3.000000\n",
       "55    3.000000\n",
       "56    2.833333\n",
       "57    3.500000\n",
       "58    3.500000\n",
       "59    3.500000\n",
       "60    2.666667\n",
       "61    3.333333\n",
       "62    2.666667\n",
       "63    3.833333\n",
       "64    3.666667\n",
       "65    3.500000\n",
       "66    3.166667\n",
       "67    3.500000\n",
       "68    3.500000\n",
       "69    2.166667\n",
       "70    2.666667\n",
       "71    3.000000\n",
       "72    3.500000\n",
       "73    2.500000\n",
       "74    3.500000\n",
       "75    3.333333\n",
       "76    2.833333\n",
       "77    3.000000\n",
       "78    2.333333\n",
       "Name: mean_FFMQ_Nonreact, dtype: float64"
      ]
     },
     "execution_count": 326,
     "metadata": {},
     "output_type": "execute_result"
    }
   ],
   "source": [
    "#Five Faces of Mindfulness scores \n",
    "#mean total FFMQ\n",
    "df['mean_FFMQ'] = df[['FFMQ1_FFMQ1','FFMQ1_FFMQ2','FFMQ1_FFMQ3','FFMQ1_FFMQ4','FFMQ1_FFMQ5','FFMQ1_FFMQ6','FFMQ1_FFMQ7', u'FFMQ1_FFMQ8', u'FFMQ1_FFMQ9',\n",
    "       'FFMQ1_FFMQ10', 'FFMQ2_MMFQ11', 'FFMQ2_MMFQ12','FFMQ2_MMFQ13',\n",
    "       'FFMQ2_MMFQ14', 'FFMQ2_MMFQ15', 'FFMQ2_MMFQ16', 'FFMQ2_MMFQ17',\n",
    "       'FFMQ2_MMFQ18', 'FFMQ2_MMFQ19', 'FFMQ2_MMFQ20', 'FFMQ3_FFMQ21',\n",
    "       'FFMQ3_FFMQ22', 'FFMQ3_FFMQ23', 'FFMQ3_FFMQ24', 'FFMQ3_FFMQ25',\n",
    "       'FFMQ3_FFMQ26', 'FFMQ3_FFMQ27', 'FFMQ3_FFMQ28', 'FFMQ3_FFMQ29',\n",
    "       'FFMQ3_FFMQ30', 'FFMQ4_FFMQ31', 'FFMQ4_FFMQ32', 'FFMQ4_FFMQ33',\n",
    "       'FFMQ4_FFMQ34', 'FFMQ4_FFMQ35', 'FFMQ4_FFMQ36', 'FFMQ4_FFMQ37',\n",
    "       'FFMQ4_FFMQ38', 'FFMQ4_FFMQ39']].mean(axis=1)\n",
    "df['mean_FFMQ']\n",
    "\n",
    "#mean FFMQ-Subscale 1,  Observe items (1, 6, 11, 15, 20, 26, 31, 36)\n",
    "df['mean_FFMQ_Observe'] = df[['FFMQ1_FFMQ1','FFMQ1_FFMQ6','FFMQ2_MMFQ11','FFMQ2_MMFQ15','FFMQ2_MMFQ20',\n",
    "       'FFMQ3_FFMQ26', 'FFMQ4_FFMQ31', 'FFMQ4_FFMQ36']].mean(axis=1)\n",
    "df['mean_FFMQ_Observe']\n",
    "\n",
    "#mean FFMQ-Subscale 2, Describe items (2, 7, 12, 16, 22, 27, 32, 37)\n",
    "df['mean_FFMQ_Describe'] = df[['FFMQ1_FFMQ2','FFMQ1_FFMQ7','FFMQ2_MMFQ12','FFMQ2_MMFQ16',\n",
    "       'FFMQ3_FFMQ22', 'FFMQ3_FFMQ27', 'FFMQ4_FFMQ32', 'FFMQ4_FFMQ37']].mean(axis=1)\n",
    "df['mean_FFMQ_Describe']\n",
    "\n",
    "#mean FFMQ-Subscale 3, Act with awareness (5, 8, 13, 18, 23, 28, 34, 38)\n",
    "df['mean_FFMQ_ActAwareness'] = df[['FFMQ1_FFMQ5','FFMQ1_FFMQ8','FFMQ2_MMFQ13',\n",
    "       'FFMQ2_MMFQ18', 'FFMQ3_FFMQ23','FFMQ3_FFMQ28','FFMQ4_FFMQ34',\n",
    "       'FFMQ4_FFMQ38']].mean(axis=1)\n",
    "df['mean_FFMQ_ActAwareness']\n",
    "\n",
    "#mean FFMQ-Subscale 4, Nonjudge items (3, 10, 14, 17, 25, 30, 35, 39)\n",
    "df['mean_FFMQ_Nonjudge'] = df[['FFMQ1_FFMQ3','FFMQ1_FFMQ10','FFMQ2_MMFQ14','FFMQ2_MMFQ17',\n",
    "       'FFMQ3_FFMQ25','FFMQ3_FFMQ30', 'FFMQ4_FFMQ35', 'FFMQ4_FFMQ39']].mean(axis=1)\n",
    "df['mean_FFMQ_Nonjudge']\n",
    "\n",
    "#mean FFMQ-Subscale 5, Nonreact items (4, 9, 19, 21, 24, 29, 33)\n",
    "df['mean_FFMQ_Nonreact'] = df[['FFMQ1_FFMQ4','FFMQ1_FFMQ9','FFMQ2_MMFQ19', 'FFMQ3_FFMQ21',\n",
    "       'FFMQ3_FFMQ24', 'FFMQ3_FFMQ29','FFMQ4_FFMQ33']].mean(axis=1)\n",
    "df['mean_FFMQ_Nonreact']"
   ]
  },
  {
   "cell_type": "code",
   "execution_count": 328,
   "metadata": {
    "collapsed": false
   },
   "outputs": [
    {
     "data": {
      "text/plain": [
       "0     1.6\n",
       "1     2.2\n",
       "2     1.8\n",
       "3     1.6\n",
       "4     2.6\n",
       "5     1.8\n",
       "6     1.6\n",
       "7     1.2\n",
       "8     2.2\n",
       "9     1.6\n",
       "10    2.2\n",
       "11    1.6\n",
       "12    1.4\n",
       "13    1.6\n",
       "14    2.4\n",
       "15    1.8\n",
       "16    1.4\n",
       "17    1.6\n",
       "18    1.8\n",
       "19    2.4\n",
       "20    2.0\n",
       "21    2.6\n",
       "22    1.6\n",
       "23    1.2\n",
       "24    1.8\n",
       "25    2.0\n",
       "26    1.4\n",
       "27    1.6\n",
       "28    2.4\n",
       "29    2.0\n",
       "     ... \n",
       "49    2.2\n",
       "50    2.0\n",
       "51    1.6\n",
       "52    1.6\n",
       "53    1.2\n",
       "54    2.4\n",
       "55    2.2\n",
       "56    1.0\n",
       "57    1.8\n",
       "58    1.6\n",
       "59    1.6\n",
       "60    1.6\n",
       "61    1.4\n",
       "62    2.0\n",
       "63    1.6\n",
       "64    2.0\n",
       "65    1.4\n",
       "66    1.4\n",
       "67    1.8\n",
       "68    2.4\n",
       "69    1.8\n",
       "70    1.6\n",
       "71    1.0\n",
       "72    2.2\n",
       "73    1.6\n",
       "74    2.0\n",
       "75    1.8\n",
       "76    1.8\n",
       "77    1.6\n",
       "78    1.6\n",
       "Name: mean_MCQ_NeedControl, dtype: float64"
      ]
     },
     "execution_count": 328,
     "metadata": {},
     "output_type": "execute_result"
    }
   ],
   "source": [
    "#mean for MCQ-30\n",
    "#total mean \n",
    "df['mean_MCQ'] = df[['MCQ1_MCQ1',\n",
    "       'MCQ1_MCQ2', 'MCQ1_MCQ3', 'MCQ1_MCQ4', 'MCQ1_MCQ5', 'MCQ1_MCQ6',\n",
    "       'MCQ1_MCQ7', 'MCQ1_MCQ8','MCQ1_MCQ9', 'MCQ1_MCQ10', 'MCQ2_MCQ11',\n",
    "       'MCQ2_MCQ12','MCQ2_MCQ13', 'MCQ2_MCQ14', 'MCQ2_MCQ15',\n",
    "       'MCQ2_MCQ16', 'MCQ2_MCQ17', 'MCQ2_MCQ18', 'MCQ2_MCQ19',\n",
    "       'MCQ2_MCQ20', 'MCQ3_MCQ21', 'MCQ3_MCQ22', 'MCQ3_MCQ23',\n",
    "       'MCQ3_MCQ24', 'MCQ3_MCQ25', 'MCQ3_MCQ26', 'MCQ3_MCQ27',\n",
    "       'MCQ3_MCQ28', 'MCQ3_MCQ29', 'MCQ3_MCQ30']].mean(axis=1)\n",
    "df['mean_MCQ']\n",
    "\n",
    "# mean subscale 1: (Lack of) Cognitive Confidence: 8, 14, 17, 24, 26, 29\n",
    "df['mean_MCQ_CogConfidence'] = df[['MCQ1_MCQ8', 'MCQ2_MCQ14', 'MCQ2_MCQ17',\n",
    "       'MCQ3_MCQ24', 'MCQ3_MCQ26', 'MCQ3_MCQ29', ]].mean(axis=1)\n",
    "df['mean_MCQ_CogConfidence']\n",
    "\n",
    "# mean subscale 2: Positive Beliefs about Worry: 1, 7, 10, 19, 23, 28\n",
    "df['mean_MCQ_PosBeliefWorry'] = df[['MCQ1_MCQ1',\n",
    "       'MCQ1_MCQ7', 'MCQ1_MCQ10', 'MCQ2_MCQ19','MCQ3_MCQ23',\n",
    "       'MCQ3_MCQ28']].mean(axis=1)\n",
    "df['mean_MCQ_PosBeliefWorry']\n",
    "\n",
    "# mean subscale 3: Cognitive Self-Consciousness: 3, 5, 12, 16, 18, 30\n",
    "df['mean_MCQ_CogSC'] = df[['MCQ1_MCQ3',  'MCQ1_MCQ5', 'MCQ2_MCQ12',\n",
    "       'MCQ2_MCQ16','MCQ2_MCQ18','MCQ3_MCQ30']].mean(axis=1)\n",
    "df['mean_MCQ_CogSC']\n",
    "\n",
    "# mean subscale 4: Negative Beliefs about Uncontrollability and Danger: 2, 4, 9, 11, 15, 21\n",
    "df['mean_MCQ_NegBeliefs'] = df[['MCQ1_MCQ2','MCQ1_MCQ4','MCQ1_MCQ9','MCQ2_MCQ11',\n",
    "        'MCQ2_MCQ15','MCQ3_MCQ21']].mean(axis=1)\n",
    "df['mean_MCQ_NegBeliefs']\n",
    "\n",
    "# mean subscale 5: Need to Control Thoughts: 6, 13, 20, 22, 25, 27\n",
    "df['mean_MCQ_NeedControl'] = df[['MCQ1_MCQ6','MCQ2_MCQ13',\n",
    "       'MCQ2_MCQ20', 'MCQ3_MCQ22', 'MCQ3_MCQ25', 'MCQ3_MCQ27',]].mean(axis=1)\n",
    "df['mean_MCQ_NeedControl']"
   ]
  },
  {
   "cell_type": "code",
   "execution_count": 331,
   "metadata": {
    "collapsed": false
   },
   "outputs": [
    {
     "data": {
      "text/plain": [
       "0     2.333333\n",
       "1     4.666667\n",
       "2     3.000000\n",
       "3     2.666667\n",
       "4     3.000000\n",
       "5     2.666667\n",
       "6     3.666667\n",
       "7     1.666667\n",
       "8     2.333333\n",
       "9     3.333333\n",
       "10    3.666667\n",
       "11    4.333333\n",
       "12    3.000000\n",
       "13    3.000000\n",
       "14    2.000000\n",
       "15    3.000000\n",
       "16    3.666667\n",
       "17    3.333333\n",
       "18    4.000000\n",
       "19    3.333333\n",
       "20    3.333333\n",
       "21    3.333333\n",
       "22    2.666667\n",
       "23    2.333333\n",
       "24    3.666667\n",
       "25    2.000000\n",
       "26    3.000000\n",
       "27    3.666667\n",
       "28    2.000000\n",
       "29    3.000000\n",
       "        ...   \n",
       "49    3.666667\n",
       "50    2.666667\n",
       "51    3.000000\n",
       "52    3.666667\n",
       "53    3.333333\n",
       "54    3.666667\n",
       "55    3.666667\n",
       "56    2.666667\n",
       "57    2.333333\n",
       "58    2.666667\n",
       "59    4.000000\n",
       "60    5.000000\n",
       "61    4.666667\n",
       "62    3.333333\n",
       "63    3.666667\n",
       "64    4.333333\n",
       "65    3.333333\n",
       "66    3.666667\n",
       "67    2.000000\n",
       "68    1.666667\n",
       "69    4.333333\n",
       "70    2.666667\n",
       "71    2.666667\n",
       "72    3.000000\n",
       "73    2.333333\n",
       "74    3.333333\n",
       "75    4.000000\n",
       "76    3.000000\n",
       "77    3.000000\n",
       "78    2.666667\n",
       "Name: mean_BCQ_BodyCompetence, dtype: float64"
      ]
     },
     "execution_count": 331,
     "metadata": {},
     "output_type": "execute_result"
    }
   ],
   "source": [
    "#mean values for Body Consciousness Questionnaire\n",
    "#mean BCQ total\n",
    "df['mean_BCQ'] = df[['BCQ1_BCQ1', 'BCQ1_BCQ2',\n",
    "       'BCQ1_BCQ3', 'BCQ1_BCQ4', 'BCQ1_BCQ5', 'BCQ1_BCQ6', 'BCQ1_BCQ7',\n",
    "       'BCQ1_BCQ8', 'BCQ1_BCQ9', 'BCQ1_BCQ10', 'BCQ2_BCQ11', 'BCQ2_BCQ12',\n",
    "       'BCQ2_BCQ13', 'BCQ2_BCQ14', 'BCQ2_BCQ15']].mean(axis=1)\n",
    "df['mean_BCQ']\n",
    "\n",
    "#mean BCQ subscale 1: Private Body 3, 4, 5 ,8, 12\n",
    "df['mean_BCQ_PrivateBody'] = df[['BCQ1_BCQ3', 'BCQ1_BCQ4', 'BCQ1_BCQ5',\n",
    "       'BCQ1_BCQ8', 'BCQ2_BCQ12']].mean(axis=1)\n",
    "df['mean_BCQ_PrivateBody']\n",
    "\n",
    "#mean BCQ subscale 2: Public Body 1,7, 10,11, 13, 15\n",
    "df['mean_BCQ_PublicBody'] = df[['BCQ1_BCQ1','BCQ1_BCQ7',\n",
    "       'BCQ1_BCQ10', 'BCQ2_BCQ11',\n",
    "       'BCQ2_BCQ13','BCQ2_BCQ15']].mean(axis=1)\n",
    "df['mean_BCQ_PublicBody']\n",
    "\n",
    "#mean BCQ subscale 3: Body Competence 2,6,9,14\n",
    "df['mean_BCQ_BodyCompetence'] = df[['BCQ1_BCQ2','BCQ1_BCQ6','BCQ1_BCQ9',\n",
    "       'BCQ2_BCQ14']].mean(axis=1)\n",
    "df['mean_BCQ_BodyCompetence']"
   ]
  },
  {
   "cell_type": "code",
   "execution_count": 337,
   "metadata": {
    "collapsed": true
   },
   "outputs": [],
   "source": [
    "df.to_csv('FFMQ_data_reversecode.csv')\n",
    "\n"
   ]
  }
 ],
 "metadata": {
  "kernelspec": {
   "display_name": "Python 2",
   "language": "python",
   "name": "python2"
  },
  "language_info": {
   "codemirror_mode": {
    "name": "ipython",
    "version": 2
   },
   "file_extension": ".py",
   "mimetype": "text/x-python",
   "name": "python",
   "nbconvert_exporter": "python",
   "pygments_lexer": "ipython2",
   "version": "2.7.12"
  }
 },
 "nbformat": 4,
 "nbformat_minor": 0
}
